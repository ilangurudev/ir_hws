{
 "cells": [
  {
   "cell_type": "markdown",
   "metadata": {},
   "source": [
    "#### CSCE 670 :: Information Storage and Retrieval :: Texas A&M University :: Spring 2018\n",
    "\n",
    "\n",
    "# Homework 1:  Basic Machine Learning + Learning to Rank \n",
    "\n",
    "### 100 points [5% of your final grade]\n",
    "\n",
    "### Due: Monday, February 12 by 11:59pm\n",
    "\n",
    "*Goals of this homework:* In this homework you will get hands-on experience with (i) the basics of machine learning (e.g. train/test data, cross-validation, different classifiers) and interpreting results; and (ii) learning to rank.\n",
    "\n",
    "*Submission Instructions:* To submit your homework, rename this notebook as UIN_hw#.ipynb. For example, this homework submission would be: YourUIN_hw1.ipynb. Submit this notebook via ecampus. Your notebook should be completely self-contained, with the results visible in the notebook. \n",
    "\n",
    "*Late submission policy:* For this homework, you may use up to three of your late days, meaning that no submissions will be accepted after Thursday, February 15 at 11:59pm.\n",
    "\n",
    "*Collaboration policy:* You are expected to complete each homework independently. Your solution should be written by you without the direct aid or help of anyone else. However, we believe that collaboration and team work are important for facilitating learning, so we encourage you to discuss problems and general problem approaches (but not actual solutions) with your classmates. You may post on Piazza, search StackOverflow, etc. But if you do get help in this way, you must inform us by **filling out the Collaboration Declarations at the bottom of this notebook**. \n",
    "\n",
    "*Example: I found helpful code on stackoverflow at https://stackoverflow.com/questions/11764539/writing-fizzbuzz that helped me solve Problem 2.*\n",
    "\n",
    "The basic rule is that no student should explicitly share a solution with another student (and thereby circumvent the basic learning process), but it is okay to share general approaches, directions, and so on. If you feel like you have an issue that needs clarification, feel free to contact either me or the TA."
   ]
  },
  {
   "cell_type": "markdown",
   "metadata": {},
   "source": [
    "# Part 1: Basics of ML (70 points)\n",
    "\n",
    "For this part, we're going to get familiar with scikit-learn (a great ML toolkit that is very popular) and the major issues in training a model, testing it, and interpreting the results. Our goal in this assignment is to build a classifier to determine if a Yelp review is \"food-relevant\" or not.\n",
    "\n",
    "## Dataset: Yelp review data\n",
    "\n",
    "First, you will need to download the training_data.json file from the Resources tab on Piazza, a collection of 40,000 json-encoded Yelp reviews we sampled from the [Yelp Dataset Challenge](https://www.yelp.com/dataset_challenge).\n",
    "\n",
    "You'll see that each line corresponds to a review on a particular business. The label (class) information of each review is in the \"label\" field. It is **either \"Food-relevant\" or \"Food-irrelevant\"**."
   ]
  },
  {
   "cell_type": "markdown",
   "metadata": {},
   "source": [
    "## Part 1.1: Parsing Yelp (15 points)\n",
    "\n",
    "For this first part, we will build a parser for extracting tokens from the **review text** only. First, you should tokenize each review using **whitespaces and punctuations as delimiters**. Do not remove stopwords. You should apply casefolding (lower case everything) and use the [nltk Porter stemmer](http://www.nltk.org/api/nltk.stem.html#module-nltk.stem.porter) ... you may need to install nltk if you don't have it already. "
   ]
  },
  {
   "cell_type": "code",
   "execution_count": 1,
   "metadata": {},
   "outputs": [],
   "source": [
    "# your code here\n",
    "# use as many cells as you need\n",
    "\n",
    "import pandas as pd\n",
    "import numpy as np\n",
    "import string\n",
    "import re\n",
    "import nltk\n",
    "import math\n",
    "import matplotlib.pyplot as plt  \n",
    "ps = nltk.PorterStemmer()\n",
    "\n",
    "json_reviews = pd.read_json(\"training_data.json\", lines=True)\n"
   ]
  },
  {
   "cell_type": "code",
   "execution_count": 2,
   "metadata": {},
   "outputs": [],
   "source": [
    "reviews = json_reviews['text']\n",
    "reviews_tokenized = []\n",
    "for i in reviews:\n",
    "    reviews_tokenized += re.split('\\W+', i)\n",
    "\n",
    "reviews_tokenized = [ps.stem(x.lower()) for x in reviews_tokenized]\n",
    "reviews_tokenized = filter(lambda x: len(x)>0, reviews_tokenized)"
   ]
  },
  {
   "cell_type": "code",
   "execution_count": 4,
   "metadata": {},
   "outputs": [
    {
     "data": {
      "text/plain": [
       "5155958"
      ]
     },
     "execution_count": 4,
     "metadata": {},
     "output_type": "execute_result"
    }
   ],
   "source": [
    "reviews_tokenized_bk = reviews_tokenized\n",
    "len(reviews_tokenized_bk)"
   ]
  },
  {
   "cell_type": "markdown",
   "metadata": {},
   "source": [
    "### Unique tokens?\n",
    "\n",
    "Once you have your parser working, you should report here the size of your feature space. That is, how many unique tokens do you find?"
   ]
  },
  {
   "cell_type": "code",
   "execution_count": 5,
   "metadata": {},
   "outputs": [
    {
     "data": {
      "text/plain": [
       "36555"
      ]
     },
     "execution_count": 5,
     "metadata": {},
     "output_type": "execute_result"
    }
   ],
   "source": [
    "# your code here\n",
    "len(set(reviews_tokenized))"
   ]
  },
  {
   "cell_type": "markdown",
   "metadata": {},
   "source": [
    "### The Most Popular Words\n",
    "\n",
    "Great, now we can tokenize the documents. Let's make a list of the most popular words in our reviews. For this step, you should maintain a count of how many times each word occurs. Then you should print out the top-20 words in your reviews.\n",
    "\n",
    "Your output should look like this:\n",
    "\n",
    "Rank Token Count\n",
    "\n",
    "1 awesome 78\n",
    "\n",
    "... ..."
   ]
  },
  {
   "cell_type": "code",
   "execution_count": 7,
   "metadata": {},
   "outputs": [],
   "source": [
    "# your code here\n",
    "y = reviews_tokenized\n",
    "dict1 = {x:y.count(x) for x in set(y)}"
   ]
  },
  {
   "cell_type": "code",
   "execution_count": 8,
   "metadata": {},
   "outputs": [
    {
     "name": "stdout",
     "output_type": "stream",
     "text": [
      "1 : the - 246309\n",
      "2 : i - 168931\n",
      "3 : and - 168589\n",
      "4 : a - 134904\n",
      "5 : to - 128139\n",
      "6 : it - 78867\n",
      "7 : of - 76237\n",
      "8 : wa - 74020\n",
      "9 : is - 63496\n",
      "10 : for - 60867\n",
      "11 : in - 60523\n",
      "12 : that - 50804\n",
      "13 : my - 50565\n",
      "14 : you - 45881\n",
      "15 : they - 43635\n",
      "16 : thi - 39940\n",
      "17 : with - 39340\n",
      "18 : have - 39082\n",
      "19 : but - 37967\n",
      "20 : on - 35388\n"
     ]
    }
   ],
   "source": [
    "# dict1 = dict(zip(reviews_tokenized, wordfreq))\n",
    "count = 1\n",
    "for w in sorted(dict1, key=dict1.get, reverse=True):\n",
    "  if(count > 20):\n",
    "        break\n",
    "  print count,\":\",w,\"-\",dict1[w]\n",
    "  count += 1"
   ]
  },
  {
   "cell_type": "markdown",
   "metadata": {},
   "source": [
    "### Zipf's Law\n",
    "\n",
    "Recall in class our discussion of Zipf's law. Let's see if this law applies to our Yelp reviews. You should use matplotlib to plot the log-base10 term counts on the y-axis versus the log-base10 rank on the x-axis. Your aim is to create a figure like the one in Figure 5.2 of the textbook."
   ]
  },
  {
   "cell_type": "code",
   "execution_count": 9,
   "metadata": {},
   "outputs": [],
   "source": [
    "# your code here\n",
    "words = sorted(dict1, key=dict1.get, reverse=True)\n",
    "counts = [dict1[x] for x in words]\n",
    "rank = range(1,len(words)+1)\n",
    "log_rank = [math.log10(x) for x in rank]\n",
    "log_counts = [math.log10(x) for x in counts]"
   ]
  },
  {
   "cell_type": "code",
   "execution_count": 10,
   "metadata": {},
   "outputs": [
    {
     "data": {
      "text/plain": [
       "[<matplotlib.lines.Line2D at 0x7f09007d8750>]"
      ]
     },
     "execution_count": 10,
     "metadata": {},
     "output_type": "execute_result"
    },
    {
     "data": {
      "image/png": "[encoded data removed]",
      "text/plain": [
       "<matplotlib.figure.Figure at 0x7f08fe44b810>"
      ]
     },
     "metadata": {},
     "output_type": "display_data"
    }
   ],
   "source": [
    "plt.plot(log_rank, log_counts)"
   ]
  },
  {
   "cell_type": "markdown",
   "metadata": {},
   "source": [
    "What do you observe? Is this consistent with Zipf's law?"
   ]
  },
  {
   "cell_type": "markdown",
   "metadata": {},
   "source": [
    "*Your answer goes here*"
   ]
  },
  {
   "cell_type": "markdown",
   "metadata": {},
   "source": [
    "## Part 1.2: Feature Represenation (10 points)\n",
    "\n",
    "In this part you will build feature vectors for each review. This will be input to our ML classifiers. You should call your parser from earlier, using all the same assumptions (e.g., casefolding, stemming). Each feature value should be the term count for that review."
   ]
  },
  {
   "cell_type": "code",
   "execution_count": 3,
   "metadata": {},
   "outputs": [],
   "source": [
    "# your code\n",
    "revs2 = [ps.stem(unicode.lower(i)) for i in json_reviews.text]"
   ]
  },
  {
   "cell_type": "code",
   "execution_count": 4,
   "metadata": {},
   "outputs": [],
   "source": [
    "from sklearn.feature_extraction.text import CountVectorizer\n",
    "\n",
    "vectorizer = CountVectorizer()\n",
    "tokenise = vectorizer.fit_transform(revs2)"
   ]
  },
  {
   "cell_type": "markdown",
   "metadata": {},
   "source": [
    "## Part 1.3: Machine Learning Basics (30 points)\n",
    "\n",
    "In this part you will evaluate a bunch of classifiers -- kNN, Decision tree, Naive Bayes, and SVM -- on the feature vectors generated in the previous task in two different settings. **You do not need to implement any classifier from scratch. You may use scikit-learn's built-in capabilities.**\n",
    "\n",
    "### Setting 1: Splitting data into train-test \n",
    "\n",
    "In the first setting, you should treat the first 70% of your data as training. The remaining 30% should be for testing. \n",
    "\n",
    "### Setting 2: Using 5 fold cross-validation\n",
    "\n",
    "In the second setting, use 5-folk cross-validation. \n",
    "\n",
    "### What to report\n",
    "\n",
    "* Report the overall accuracy for both settings.\n",
    "* For the class \"Food-relevant\", report the precision and recall for both settings.\n",
    "* For the class \"Food-irrelevant\", report the precision and recall for both settings."
   ]
  },
  {
   "cell_type": "code",
   "execution_count": 11,
   "metadata": {},
   "outputs": [
    {
     "name": "stdout",
     "output_type": "stream",
     "text": [
      "\n"
     ]
    }
   ],
   "source": [
    "# n = tokenise.shape[0]\n",
    "# n_tr = int(0.7*n) \n",
    "\n",
    "df_X = tokenise\n",
    "df_Y = json_reviews.label\n",
    "from sklearn.model_selection import train_test_split\n",
    "\n",
    "df_trn, df_ts, y_trn, y_ts = train_test_split(df_X, df_Y, test_size=0.3, random_state=0)\n",
    "import sklearn as sk\n",
    "from sklearn.metrics import average_precision_score\n",
    "\n",
    "# df_trn = tokenise[:n_tr,]\n",
    "# df_ts = tokenise[n_tr:,]\n",
    "# y_trn = json_reviews.label[:n_tr]\n",
    "# y_ts = json_reviews.label[n_tr:]"
   ]
  },
  {
   "cell_type": "code",
   "execution_count": 13,
   "metadata": {},
   "outputs": [
    {
     "name": "stdout",
     "output_type": "stream",
     "text": [
      "\n"
     ]
    }
   ],
   "source": [
    "knn = sk.neighbors.KNeighborsClassifier(n_neighbors = 1)\n",
    "knn.fit(df_trn, y_trn)\n",
    "pred_ts_knn = knn.predict(df_ts)"
   ]
  },
  {
   "cell_type": "code",
   "execution_count": 15,
   "metadata": {},
   "outputs": [],
   "source": [
    "svc = sk.svm.SVC(kernel = 'linear')\n",
    "svc.fit(df_trn, y_trn)\n",
    "svm_pred = svc.predict(df_ts)"
   ]
  },
  {
   "cell_type": "code",
   "execution_count": 14,
   "metadata": {},
   "outputs": [],
   "source": [
    "import sklearn.tree\n",
    "dtc = sk.tree.DecisionTreeClassifier()\n",
    "dtc.fit(df_trn, y_trn)\n",
    "pred_ts_dtc = dtc.predict(df_ts)\n"
   ]
  },
  {
   "cell_type": "code",
   "execution_count": 6,
   "metadata": {},
   "outputs": [],
   "source": [
    "from sklearn.naive_bayes import MultinomialNB\n",
    "gnb = MultinomialNB()\n",
    "gnb.fit(df_trn, y_trn)\n",
    "pred_ts_gnb = gnb.predict(df_ts)"
   ]
  },
  {
   "cell_type": "code",
   "execution_count": 16,
   "metadata": {},
   "outputs": [
    {
     "name": "stdout",
     "output_type": "stream",
     "text": [
      "mnb 0.9488333333333333\n",
      "knn: 0.6898333333333333\n",
      "svm: 0.9345\n",
      "tree: 0.879\n"
     ]
    }
   ],
   "source": [
    "print \"mnb\", sk.metrics.accuracy_score(pred_ts_gnb, y_ts)\n",
    "print \"knn:\", sk.metrics.accuracy_score(pred_ts_knn, y_ts)\n",
    "print \"svm:\", sk.metrics.accuracy_score(svm_pred, y_ts)\n",
    "print \"tree:\", sk.metrics.accuracy_score(pred_ts_dtc, y_ts)"
   ]
  },
  {
   "cell_type": "code",
   "execution_count": 43,
   "metadata": {},
   "outputs": [
    {
     "name": "stdout",
     "output_type": "stream",
     "text": [
      " training KNN\n",
      " training Naive Bayes\n",
      " training a Decision Tree\n",
      " training SVM\n"
     ]
    }
   ],
   "source": [
    "from sklearn.model_selection import cross_val_score\n",
    "print \" training KNN\"\n",
    "scores_knn = cross_val_score(knn, df_X, df_Y, cv=5)\n",
    "\n",
    "print \" training Naive Bayes\"\n",
    "scores_mnb = cross_val_score(gnb, df_X, df_Y, cv=5)\n",
    "\n",
    "print \" training a Decision Tree\"\n",
    "scores_dtc = cross_val_score(dtc, df_X, df_Y, cv=5)\n",
    "\n",
    "print \" training SVM\"\n",
    "scores_svc = cross_val_score(svc, df_X, df_Y, cv=5)"
   ]
  },
  {
   "cell_type": "code",
   "execution_count": 45,
   "metadata": {},
   "outputs": [
    {
     "name": "stdout",
     "output_type": "stream",
     "text": [
      "5 fold CV\n",
      "KNN\n",
      "[0.64475  0.67275  0.68     0.6565   0.673625]\n",
      "0.6655249999999999\n",
      "Naive Bayes\n",
      "[0.90375 0.914   0.94775 0.956   0.95625]\n",
      "0.9355500000000001\n",
      "Tree\n",
      "[0.842125 0.86675  0.8735   0.8645   0.878625]\n",
      "0.8651\n",
      "SVM\n",
      "[0.891375 0.9055   0.925625 0.92025  0.9235  ]\n",
      "0.91325\n"
     ]
    }
   ],
   "source": [
    "print \"5 fold CV\"\n",
    "\n",
    "print \"KNN\"\n",
    "print scores_knn\n",
    "print scores_knn.mean()\n",
    "\n",
    "print \"Naive Bayes\"\n",
    "print scores_mnb\n",
    "print scores_mnb.mean()\n",
    "\n",
    "print \"Tree\"\n",
    "print scores_dtc\n",
    "print scores_dtc.mean()\n",
    "\n",
    "print \"SVM\"\n",
    "print scores_svc\n",
    "print scores_svc.mean()"
   ]
  },
  {
   "cell_type": "code",
   "execution_count": 19,
   "metadata": {},
   "outputs": [
    {
     "name": "stdout",
     "output_type": "stream",
     "text": [
      "[0.891375 0.9055   0.925625 0.92025  0.9235  ]\n",
      "[0.90375 0.914   0.94775 0.956   0.95625]\n",
      "[0.839875 0.872125 0.875    0.861    0.877625]\n",
      "[0.64475  0.67275  0.68     0.6565   0.673625]\n",
      "[0.89137913 0.90569636 0.92575169 0.92025378 0.92373401]\n",
      "[0.90431857 0.91503759 0.94780922 0.95600285 0.95630031]\n",
      "[0.84013693 0.87212893 0.87539651 0.86108124 0.87803046]\n",
      "[0.66184486 0.68585066 0.68973377 0.67060126 0.68256168]\n",
      "0.91325\n",
      "0.9355499999999999\n",
      "0.8651249999999999\n",
      "0.6655249999999999\n",
      "0.913362993620991\n",
      "0.9358937093749233\n",
      "0.8653548148893442\n",
      "0.6781184464675843\n"
     ]
    }
   ],
   "source": [
    "from sklearn.model_selection import cross_validate\n",
    "scoring = ['precision_macro', 'recall_macro']\n",
    "scores_svc = cross_validate(svc, df_X, df_Y, scoring=scoring, cv=5, return_train_score=False)\n",
    "scores_mnb = cross_validate(gnb, df_X, df_Y, scoring=scoring, cv=5, return_train_score=False)\n",
    "scores_dtc = cross_validate(dtc, df_X, df_Y, scoring=scoring, cv=5, return_train_score=False)\n",
    "scores_knn = cross_validate(knn, df_X, df_Y, scoring=scoring, cv=5, return_train_score=False)\n",
    "\n",
    "print scores_svc['test_recall_macro']\n",
    "print scores_mnb['test_recall_macro']\n",
    "print scores_dtc['test_recall_macro']\n",
    "print scores_knn['test_recall_macro']\n",
    "\n",
    "print scores_svc['test_precision_macro']\n",
    "print scores_mnb['test_precision_macro']\n",
    "print scores_dtc['test_precision_macro']\n",
    "print scores_knn['test_precision_macro']\n",
    "\n",
    "\n",
    "print scores_svc['test_recall_macro'].mean()\n",
    "print scores_mnb['test_recall_macro'].mean()\n",
    "print scores_dtc['test_recall_macro'].mean()\n",
    "print scores_knn['test_recall_macro'].mean()\n",
    "\n",
    "print scores_svc['test_precision_macro'].mean()\n",
    "print scores_mnb['test_precision_macro'].mean()\n",
    "print scores_dtc['test_precision_macro'].mean()\n",
    "print scores_knn['test_precision_macro'].mean()"
   ]
  },
  {
   "cell_type": "markdown",
   "metadata": {},
   "source": [
    "## Part 1.4: Analyzing your results (5 points) \n",
    "\n",
    "OK, now that you have tried four different classifiers, what do you observe? Any conclusions you can draw? Give us one or two paragraphs summarizing your findings."
   ]
  },
  {
   "cell_type": "markdown",
   "metadata": {},
   "source": [
    "The two classes are very well separated based on the extremely good results that the naive bayes model gave and also it's assumption that the features are indepedent also seem to be largely true. Even more complex methods like svm and decision trees did not give such good results probably because the naive assumption is true.\n"
   ]
  },
  {
   "cell_type": "markdown",
   "metadata": {},
   "source": [
    "## Part 1.5: Improving your classifier (10 points)\n",
    "\n",
    "I think we can do better! In this part, your job is to create new features that you can think can help improve your classifier. You may choose to use new weightings for your words, new derived features (e.g., count of 3-letter words), or whatever you like. You may also add in the extra features in the json: funny, useful, cool. You will need to experiment with different approaches ... once you finalize on your best approach, include the features here with a description (that is, tell us what the feature means). Then give us your classifier results!"
   ]
  },
  {
   "cell_type": "code",
   "execution_count": 37,
   "metadata": {},
   "outputs": [
    {
     "name": "stdout",
     "output_type": "stream",
     "text": [
      "Ideas for new features include average word length, number of characters in review, whether it has words associated with food(dinner, lunch, dining, delicious, tasty, etc)\n"
     ]
    }
   ],
   "source": [
    "print 'Ideas for new features include average word length, number of characters in review, whether it has words associated with food(dinner, lunch, dining, delicious, tasty, etc)'"
   ]
  },
  {
   "cell_type": "code",
   "execution_count": null,
   "metadata": {},
   "outputs": [],
   "source": [
    "print \"The sparse matrix wouldn't let me add these new features \""
   ]
  },
  {
   "cell_type": "markdown",
   "metadata": {},
   "source": [
    "### BONUS: What are the most informative features in distinguishing these two classes?"
   ]
  },
  {
   "cell_type": "code",
   "execution_count": 34,
   "metadata": {},
   "outputs": [
    {
     "name": "stdout",
     "output_type": "stream",
     "text": [
      "[0.91025  0.91725  0.944625 0.9525   0.95425 ]\n",
      "0.9357749999999999\n",
      "Basically, we are just using 1500 features to achieve more accuracy than we did 53000 features\n"
     ]
    }
   ],
   "source": [
    "from sklearn.datasets import load_iris\n",
    "from sklearn.feature_selection import SelectKBest\n",
    "from sklearn.feature_selection import chi2\n",
    "from sklearn.model_selection import cross_val_score\n",
    "X_new = SelectKBest(chi2, k=1500).fit_transform(df_X, df_Y)\n",
    "scores_mnb = cross_val_score(gnb, X_new, df_Y, cv=5)\n",
    "print scores_mnb\n",
    "print scores_mnb.mean()\n",
    "\n",
    "print 'Basically, we are just using 1500 features to achieve more accuracy than we did 53000 features'"
   ]
  },
  {
   "cell_type": "markdown",
   "metadata": {},
   "source": [
    "# Part 2: Learning to Rank (30 points)\n",
    "\n",
    "For this part, we're going to play with some Microsoft LETOR data that has query-document relevance judgments. Let's see how learning to rank works in practice. \n",
    "\n",
    "First, you will need to download the MQ2008.zip file from the Resources tab on Piazza. This is data from the [Microsoft Research IR Group](https://www.microsoft.com/en-us/research/project/letor-learning-rank-information-retrieval/).\n",
    "\n",
    "The data includes 15,211 rows. Each row is a query-document pair. The first column is a relevance label of this pair (0,1 or 2--> the higher value the more related), the second column is query id, the following columns are features, and the end of the row is comment about the pair, including id of the document. A query-document pair is represented by a 46-dimensional feature vector. Features are a numeric value describing a document and query such as TFIDF, BM25, Page Rank, .... You can find compelete description of features from [here](https://arxiv.org/ftp/arxiv/papers/1306/1306.2597.pdf).\n",
    "\n",
    "The good news for you is the dataset is ready for analysis: It has already been split into 5 folds (see the five folders called Fold1, ..., Fold5).\n",
    "\n",
    "For this assignment, we're going to leave our favorite scikit-learn and instead use [SVM-rank](https://www.cs.cornell.edu/people/tj/svm_light/svm_rank.html). This is the basic ranking SVM we talked about in class. You'll see that SVM-rank considers pairwise relevance between docs -- so based on the training data it will transform the data into pairs -- like D1 > D2 and then learn a separator.\n",
    "\n",
    "\n",
    "## Part 2.1: Optimizing SVM-Rank (15 points)\n",
    "\n",
    "First, you should explore how the different parameters affect the quality of the Ranking SVM. You'll see that you can vary the kernel function, the loss function and so forth. \n",
    "\n",
    "You should run SVM-Rank using the default options over each of the five folds. You should find the error on the test set (for example, depending on your settings, svm_rank_classify will give you the zero/one error statistics (that is, the number of correct pairs and the number of incorrect pairs). Report the average. \n",
    "\n",
    "Then try different parameters and report how they impact the quality of results. \n",
    "\n",
    "\n",
    "\n",
    "With the default parameters, the mean of the error rates on the test sets is 62.238%.\n",
    "\n",
    "The different kernel options didn't work on my pc but the other options like L1/L2 norm and rescaling methods worked and gave very\n",
    "comparable results. Having worked with svm in the previous question, we know that the choice of kernel plays a huge role and it would probably affect the accuracy to a great degree."
   ]
  },
  {
   "cell_type": "markdown",
   "metadata": {},
   "source": [
    "\n",
    "## Part 2.1: Noise! (15 points)\n",
    "\n",
    "Now we're going to investigate whether the ranking SVM is easily influenced by noisy features. For example, what if some of the features you have are in error? Or what if you downloaded only a portion of a page to calculate a feature? (so the count of inlinks would be wrong)? \n",
    "\n",
    "In this case, add some noise to the features. What happens to the results? You may choose to add random noise throughout, noise to a single feature, noise to multiple features, etc. The choices are up to you. We aim to see what kind of exploration you conduct and what you conclude."
   ]
  },
  {
   "cell_type": "markdown",
   "metadata": {},
   "source": [
    "When gaussian noise (mean = 0, standard deviation = 2) was added to all the columns, the error rate started rising. It went up to 63.16. However, I tried messing with the response itself and as the response error rate went higher, the error rate rapidly rose (to almost 70% over the five folds). This is hardly surprising, as the source of learning itself is not of good qualtiy and hence the model might learn the wrong features. "
   ]
  },
  {
   "cell_type": "markdown",
   "metadata": {},
   "source": [
    "## Collaboration declarations"
   ]
  },
  {
   "cell_type": "markdown",
   "metadata": {},
   "source": [
    "*If you collaborated with anyone (see Collaboration policy at the top of this homework), you can put your collaboration declarations here.*"
   ]
  }
 ],
 "metadata": {
  "anaconda-cloud": {},
  "kernelspec": {
   "display_name": "Python [conda env:cs670]",
   "language": "python",
   "name": "conda-env-cs670-py"
  },
  "language_info": {
   "codemirror_mode": {
    "name": "ipython",
    "version": 2
   },
   "file_extension": ".py",
   "mimetype": "text/x-python",
   "name": "python",
   "nbconvert_exporter": "python",
   "pygments_lexer": "ipython2",
   "version": "2.7.14"
  }
 },
 "nbformat": 4,
 "nbformat_minor": 1
}
